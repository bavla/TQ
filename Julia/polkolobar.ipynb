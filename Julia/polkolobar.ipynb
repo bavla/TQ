{
 "cells": [
  {
   "cell_type": "markdown",
   "id": "amended-layout",
   "metadata": {},
   "source": [
    "# Polkolobarji"
   ]
  },
  {
   "attachments": {
    "d09c25da-092c-46bf-92d4-f80e4c50787d.png": {
     "image/png": "[encoded data removed]"
    }
   },
   "cell_type": "markdown",
   "id": "united-spectrum",
   "metadata": {},
   "source": [
    "![semiring.png](attachment:d09c25da-092c-46bf-92d4-f80e4c50787d.png)"
   ]
  },
  {
   "cell_type": "markdown",
   "id": "median-hindu",
   "metadata": {},
   "source": [
    "* Gondran, Michel; Minoux, Michel: Graphs, Dioids and Semirings;\n",
    "New Models and Algorithms. <a href=\"https://www.springer.com/gp/book/9780387754499\">Springer</a>  2008.\n",
    "\n",
    "* Cerinšek M., Batagelj V. (2017) Semirings and Matrix Analysis of Networks. In: Alhajj R., Rokne J. (eds) Encyclopedia of Social Network Analysis and Mining. <a href=\"https://link.springer.com/referenceworkentry/10.1007%2F978-1-4614-7163-9_152-1\">Springer</a>, New York, NY. https://doi.org/10.1007/978-1-4614-7163-9_152-1\n",
    "\n",
    "* J. Antonio Rivero Ostoic: Algebraic Analysis of Social Networks: Models, Methods and Applications using R. John Wiley & Sons, 2021. \n",
    "ISBN:9781119250388, DOI:10.1002/9781119250425\n",
    "\n",
    "\n",
    "Knjižnico v jeziku Python za podporo računanju z utežmi sem začel pisati 10. marca 2014. Kasneje se mi je pridružila Selena Praprotnik, ki se je s to tematiko ukvarjala v svojem doktoratu. Leta 2016 sva objavila članek\n",
    "<br>\n",
    "\n",
    "* Batagelj, V., Praprotnik, S. An algebraic approach to temporal network analysis based on temporal quantities. <a href=\"https://link.springer.com/article/10.1007/s13278-016-0330-4\">Soc. Netw. Anal. Min.</a> 6, 28 (2016).  https://doi.org/10.1007/s13278-016-0330-4\n",
    "\n",
    "\n",
    "Pythonsko kodo je bilo razmeroma preprosto prestaviti v Julio.\n",
    "\n",
    "## Operacija Minkowskega\n",
    "        \n",
    "Najprej nekaj pomožnih funkcij za operacijo Minkowskega\n",
    "$$ a \\oplus_r b = \\sqrt[r]{a^r + b^r} $$"
   ]
  },
  {
   "cell_type": "code",
   "execution_count": null,
   "id": "plain-circumstances",
   "metadata": {},
   "outputs": [],
   "source": [
    "rPF = 2\n",
    "function pitagora(a,b)\n",
    "    return(sqrt(a^2+b^2))\n",
    "end\n",
    "println(\"c = $(pitagora(3,4))\")"
   ]
  },
  {
   "cell_type": "code",
   "execution_count": null,
   "id": "super-marriage",
   "metadata": {},
   "outputs": [],
   "source": [
    "function Minkowski()\n",
    "    if rPF==Inf\n",
    "        return(max)\n",
    "    elseif rPF==1\n",
    "        return(+)\n",
    "    elseif rPF==2\n",
    "        return(pitagora)\n",
    "    else\n",
    "        return((a,b) -> (a^rPF+b^rPF)^(1/rPF))\n",
    "    end\n",
    "end\n",
    "rPF = 2\n",
    "println(\"Minkowski $rPF = $(Minkowski())\")\n",
    "rPF = 1\n",
    "println(\"Minkowski $rPF = $(Minkowski())\")\n",
    "rPF = Inf\n",
    "println(\"Minkowski $rPF = $(Minkowski())\")\n",
    "rPF = 3\n",
    "println(\"Minkowski $rPF = $(Minkowski())\")\n",
    "println(\"c = $(Minkowski()(3,4))\")"
   ]
  },
  {
   "cell_type": "markdown",
   "id": "twelve-windows",
   "metadata": {},
   "source": [
    "Julia pozna nekaj posebnih vrednosti <tt>Inf</tt>, <tt>NaN</tt>, <tt>missing</tt> in <tt>nothing</tt>.\n",
    "Pri možnosti <b>else</b> je uporabljena \"neimenovana\" funkcija - lambda-izraz.\n",
    "\n",
    "## Geodezični polkolobar"
   ]
  },
  {
   "cell_type": "markdown",
   "id": "joined-twenty",
   "metadata": {},
   "source": [
    "V geodezičnem polkolobarju $(\\overline{ℝ}\\times ℕ, \\oplus, \\odot,$ $ (\\infty,0), (0,1))$ sta operaciji definirani s predpisoma\n",
    "\n",
    "$$  (a,i) \\oplus (b,j) = ( \\min(a,b), \\left\\{ \\begin{array}{ll}\n",
    "        i & a < b \\\\ i+j \\quad & a = b \\\\ j & a > b\n",
    "   \\end{array} \\right. )  $$ \n",
    "in\n",
    "$$ (a,i) \\odot (b,j) = (a+b,i\\cdot j) . $$ \n",
    "\n",
    "<quote>\n",
    "Vladimir Batagelj (1994) Semirings for social networks analysis. The Journal of Mathematical Sociology. Pages 53-68. \n",
    "\n",
    "https://doi.org/10.1080/0022250X.1994.9990135 \n",
    "\n",
    "https://www.tandfonline.com/doi/abs/10.1080/0022250X.1994.9990135\n",
    "</quote>\n"
   ]
  },
  {
   "cell_type": "code",
   "execution_count": null,
   "id": "interracial-stadium",
   "metadata": {},
   "outputs": [],
   "source": [
    "function geoAdd(a,b)\n",
    "    av, ac = a\n",
    "    bv, bc = b\n",
    "    return (min(av,bv), av<bv ? ac : (av==bv ? ac+bc : bc))\n",
    "end\n",
    "function geoMul(a,b)\n",
    "    av, ac = a\n",
    "    bv, bc = b\n",
    "    return (av+bv,ac*bc)\n",
    "end\n",
    "a = (3,5)\n",
    "b = (4,3)\n",
    "c = (3,4)\n",
    "⊕ = geoAdd\n",
    "⊙ = geoMul\n",
    "println(\"a ⊕ b = $(a ⊕ b)\")\n",
    "println(\"a ⊕ c = $(a ⊕ c)\")\n",
    "println(\"a ⊙ b = $(a ⊙ b)\")\n"
   ]
  },
  {
   "cell_type": "markdown",
   "id": "resident-timber",
   "metadata": {},
   "source": [
    "Julia pozna pogojni izraz <tt>P ? A : B</tt>, ki vrne vrednost izraza A, če je pogoj P izpolnjen (resničen), sicer pa vrne vrednost izraza B. Torej, <b>if</b> P <b>then</b> A <b>else</b> B .\n",
    "\n",
    "## Primeri polkolobarjev\n",
    "\n",
    "Sedaj lahko pripravimo nabor zanimivih polkolobarjev (𝕊,⊕,⊙,𝟘,𝟙)."
   ]
  },
  {
   "cell_type": "code",
   "execution_count": 5,
   "id": "common-fishing",
   "metadata": {},
   "outputs": [
    {
     "name": "stdout",
     "output_type": "stream",
     "text": [
      "\n",
      "semiring = combinatorial\n",
      "⊕  = +\n",
      "⊙  = *\n",
      "𝟘  = 0\n",
      "𝟙  = 1\n",
      "sN    = Any[]\n",
      "sE    = [(1, Inf, 1)]\n",
      "rPF   = 3 \n",
      "\n",
      "3 ⊕ 4 = 7\n",
      "3 ⊙ 4 = 12\n",
      "\n",
      "semiring = PFsemi\n",
      "⊕  = min\n",
      "⊙  = pitagora\n",
      "𝟘  = Inf\n",
      "𝟙  = 0\n",
      "sN    = Any[]\n",
      "sE    = [(1, Inf, 0)]\n",
      "rPF   = 2 \n",
      "\n",
      "3 ⊕ 4 = 3\n",
      "3 ⊙ 4 = 5.0\n"
     ]
    }
   ],
   "source": [
    "function combinatorial()\n",
    "    global ⊕ = +\n",
    "    global ⊙ = *\n",
    "    global 𝟘 = 0\n",
    "    global 𝟙 = 1\n",
    "    global TQsN = []\n",
    "    global TQsE = [(1,Inf,𝟙)]\n",
    "    global TQsemiring = combinatorial\n",
    "end\n",
    "\n",
    "function path()\n",
    "    global ⊕ = min\n",
    "    global ⊙ = +\n",
    "    global 𝟘 = Inf\n",
    "    global 𝟙 = 0\n",
    "    global TQsN = []\n",
    "    global TQsE = [(1,Inf,𝟙)]\n",
    "    global TQsemiring = path\n",
    "end\n",
    "\n",
    "function maxmin()\n",
    "    global ⊕ = max\n",
    "    global ⊙ = min\n",
    "    global 𝟘 = -Inf\n",
    "    global 𝟙 = Inf\n",
    "    global TQsN = []\n",
    "    global TQsE = [(1,Inf,𝟙)]\n",
    "    global TQsemiring = maxmin\n",
    "end\n",
    "\n",
    "function reach()\n",
    "    global ⊕ = |\n",
    "    global ⊙ = &\n",
    "    global 𝟘 = false\n",
    "    global 𝟙 = true\n",
    "    global TQsN = []\n",
    "    global TQsE = [(1,Inf,𝟙)]\n",
    "    global TQsemiring = reach\n",
    "end\n",
    "\n",
    "function PFsemi()\n",
    "    global ⊕ = min\n",
    "    global ⊙ = Minkowski()\n",
    "    global 𝟘 = Inf\n",
    "    global 𝟙 = 0\n",
    "    global TQsN = []\n",
    "    global TQsE = [(1,Inf,𝟙)]\n",
    "    global TQsemiring = PFsemi\n",
    "end\n",
    "\n",
    "function geodetic()\n",
    "    global ⊕ = geoAdd\n",
    "    global ⊙ = geoMul\n",
    "    global 𝟘 = (Inf,0)\n",
    "    global 𝟙 = (0,1)\n",
    "    global TQsN = []\n",
    "    global TQsE = [(1,Inf,𝟙)]\n",
    "    global TQsemiring = geodetic\n",
    "end\n",
    "\n",
    "function report()\n",
    "    println(\"\\nsemiring = $TQsemiring\")\n",
    "    println(\"⊕  = \", ⊕)\n",
    "    println(\"⊙  = \", ⊙)\n",
    "    println(\"𝟘  = $𝟘\")\n",
    "    println(\"𝟙  = $𝟙\")\n",
    "    println(\"sN    = $TQsN\")\n",
    "    println(\"sE    = $TQsE\")\n",
    "    println(\"rPF   = $rPF \\n\")\n",
    "end\n",
    "\n",
    "combinatorial()\n",
    "report()\n",
    "println(\"3 ⊕ 4 = $(3 ⊕ 4)\")\n",
    "println(\"3 ⊙ 4 = $(3 ⊙ 4)\")\n",
    "rPF = 2\n",
    "PFsemi()\n",
    "report()\n",
    "println(\"3 ⊕ 4 = $(3 ⊕ 4)\")\n",
    "println(\"3 ⊙ 4 = $(3 ⊙ 4)\")\n"
   ]
  },
  {
   "cell_type": "markdown",
   "id": "restricted-horizontal",
   "metadata": {},
   "source": [
    "Spremenljivki TQsN in TQsE predstavljata ničlo in enoto v kolobarju časovnih količin nad izbranim polkolobarjem."
   ]
  },
  {
   "cell_type": "code",
   "execution_count": 7,
   "id": "extended-sociology",
   "metadata": {},
   "outputs": [
    {
     "data": {
      "text/plain": [
       "true"
      ]
     },
     "execution_count": 7,
     "metadata": {},
     "output_type": "execute_result"
    }
   ],
   "source": [
    "∞ = Inf\n",
    "∞ == Inf"
   ]
  },
  {
   "cell_type": "markdown",
   "id": "global-warning",
   "metadata": {},
   "source": [
    "Polkolobar Pathfinder (PFsemi) se uporablja pri poenostavljanju gostih uteženih omrežij, v katerih utež meri različnost med krajiščema povezave. Postopek so razvili v osemdesetih letih psihologi\n",
    "\n",
    "* Schvaneveldt, R. W. (Ed.) (1990) Pathfinder Associative Networks: Studies\n",
    "in Knowledge Organization. Norwood, NJ: <a href=\"http://interlinkinc.net/PFBook.zip\">Ablex</a>.\n",
    "\n",
    "algoritmično so ga izpopolnili španci\n",
    "\n",
    "* Vicente P. Guerrero-Bote, Felipe Zapico-Alonso, Mara Eugenia\n",
    "Espinosa-Calvo, Roco G´omez Cris´ostomo, Felix de Moya-Aneg´on: Binary\n",
    "Pathfinder: An improvement to the Pathfinder algorithm. <a href=\"http://linkinghub.elsevier.com/retrieve/pii/S0306457306000367\">Information\n",
    "Processing and Management</a>, Volume 42, Issue 6, December 2006, Pages\n",
    "1484-1490. \n",
    "\n",
    "a če opazimo, da je v ozadju ustrezen polkolobar, je vse že narejeno. Z Anžetom sva razvila učinkovitejše postopke za večja omrežja.\n",
    "\n",
    "* Anže Vavpetič, Vladimir Batagelj, Vid Podpečan:\n",
    "An implementation of the Pathfinder algorithm for sparse networks and\n",
    "its application on text networks. <a href=\"https://ailab.ijs.si/dunja/SiKDD2009/Papers/AnzeVavpetic.pdf\">SiKDD</a> 2009.\n",
    "\n",
    "* Vladimir Batagelj, Anže Vavpetič: Faster Pathfinder algorithm for sparse\n",
    "networks. <a href=\"http://vladowiki.fmf.uni-lj.si/lib/exe/fetch.php?media=pajek:doc:pathfinder30.pdf\">Sunbelt XXX</a>, Riva del Garda, Italy, June 29 - July 4, 2010.\n",
    "\n",
    "* Vladimir Batagelj Patrick Doreian Anus̆ka Ferligoj Natas̆a Kejz̆ar: Understanding Large Temporal Networks and Spatial Networks. John Wiley & Sons, 2014.\n",
    "ISBN:9780470714522, DOI:10.1002/9781118915370\n",
    "\n"
   ]
  },
  {
   "cell_type": "code",
   "execution_count": null,
   "id": "embedded-blink",
   "metadata": {},
   "outputs": [],
   "source": []
  }
 ],
 "metadata": {
  "kernelspec": {
   "display_name": "Julia 1.5.3",
   "language": "julia",
   "name": "julia-1.5"
  },
  "language_info": {
   "file_extension": ".jl",
   "mimetype": "application/julia",
   "name": "julia",
   "version": "1.5.3"
  }
 },
 "nbformat": 4,
 "nbformat_minor": 5
}
