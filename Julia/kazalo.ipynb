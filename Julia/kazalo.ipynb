{
 "cells": [
  {
   "cell_type": "markdown",
   "id": "auburn-farming",
   "metadata": {},
   "source": [
    "# Časovna omrežja v Juliji\n",
    "\n",
    "<b>Vladimir Batagelj</b>\n",
    "\n",
    "&nbsp; 1298. Sredin seminar, 24. marec 2021\n",
    "\n",
    "## Kazalo"
   ]
  },
  {
   "cell_type": "markdown",
   "id": "fabulous-production",
   "metadata": {},
   "source": [
    "* [Računanje](ra%C4%8Dunanje.ipynb)\n",
    "* [Polkolobarji](polkolobar.ipynb)\n",
    "* [Prikazi časovnih količin](prikazi.ipynb)\n",
    "* [Časovne količine](%C4%8Dasovne.ipynb)\n"
   ]
  },
  {
   "cell_type": "code",
   "execution_count": null,
   "id": "bearing-sharing",
   "metadata": {},
   "outputs": [],
   "source": []
  },
  {
   "cell_type": "code",
   "execution_count": null,
   "id": "atlantic-professional",
   "metadata": {},
   "outputs": [],
   "source": []
  },
  {
   "cell_type": "code",
   "execution_count": null,
   "id": "beautiful-stewart",
   "metadata": {},
   "outputs": [],
   "source": []
  },
  {
   "cell_type": "code",
   "execution_count": null,
   "id": "advised-ghost",
   "metadata": {},
   "outputs": [],
   "source": []
  },
  {
   "cell_type": "code",
   "execution_count": null,
   "id": "conceptual-nutrition",
   "metadata": {},
   "outputs": [],
   "source": []
  },
  {
   "cell_type": "code",
   "execution_count": null,
   "id": "explicit-canyon",
   "metadata": {},
   "outputs": [],
   "source": []
  },
  {
   "cell_type": "code",
   "execution_count": null,
   "id": "fleet-operation",
   "metadata": {},
   "outputs": [],
   "source": []
  }
 ],
 "metadata": {
  "kernelspec": {
   "display_name": "Julia 1.5.3",
   "language": "julia",
   "name": "julia-1.5"
  },
  "language_info": {
   "file_extension": ".jl",
   "mimetype": "application/julia",
   "name": "julia",
   "version": "1.5.3"
  }
 },
 "nbformat": 4,
 "nbformat_minor": 5
}
