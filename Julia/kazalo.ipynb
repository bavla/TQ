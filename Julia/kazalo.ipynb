{
 "cells": [
  {
   "cell_type": "markdown",
   "id": "large-chorus",
   "metadata": {},
   "source": [
    "# Časovna omrežja v Juliji\n",
    "\n",
    "<b>Vladimir Batagelj</b>\n",
    "\n",
    "&nbsp; 1298. Sredin seminar, 24. marec 2021\n",
    "\n",
    "## Kazalo"
   ]
  },
  {
   "cell_type": "markdown",
   "id": "reduced-holocaust",
   "metadata": {},
   "source": [
    "* [Računanje](ra%C4%8Dunanje.ipynb)\n",
    "* [Polkolobarji](polkolobar.ipynb)\n",
    "* [Prikazi časovnih količin](prikazi.ipynb)\n",
    "* [Časovne količine](%C4%8Dasovne.ipynb)\n",
    "* [Omrežja](omrežja.ipynb)"
   ]
  },
  {
   "cell_type": "code",
   "execution_count": null,
   "id": "temporal-skill",
   "metadata": {},
   "outputs": [],
   "source": []
  }
 ],
 "metadata": {
  "kernelspec": {
   "display_name": "Julia 1.5.3",
   "language": "julia",
   "name": "julia-1.5"
  },
  "language_info": {
   "file_extension": ".jl",
   "mimetype": "application/julia",
   "name": "julia",
   "version": "1.5.3"
  }
 },
 "nbformat": 4,
 "nbformat_minor": 5
}
