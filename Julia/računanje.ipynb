{
 "cells": [
  {
   "cell_type": "markdown",
   "id": "ready-hypothesis",
   "metadata": {},
   "source": [
    "# Računanje\n",
    "\n",
    "## Unicode\n",
    "\n",
    "Imena enot (spremenljivk, funkcij, ...) v Juliji lahko vsebujejo tudi (nekatere) znake iz nabora Unicode.\n",
    "\n",
    "https://docs.julialang.org/en/v1/manual/unicode-input/\n",
    "\n",
    "Tu je nekaj primerkov takih znakov\n",
    "\n",
    "◐ ◑ ◒ ○ ● ◓ ◔ ◕ ◧ ◨ ◩ ◪ ■ □ ♠ ♣ ♥ ♦ ⊞ ⊡ ⊕ ⊙ ≺ ≼ α β γ δ ε ú\n",
    "🍓 🍒 🍏 🍉 🍋 🍅 🍄\n",
    "⚀ ⚁ ⚂ ⚃ ⚄ ⚅ ◻ ◼\n",
    "∞ ∈ ∅ € ⏣ ▢ ▣ ⌘ 𝟘 𝟙 𝕊\n",
    "♔♕♖♗♘♙♚♛♜♝♞♟①Ⓞ☐☑☒☹☺❓❗⮊\n",
    "\n",
    "Tako lahko na primer zapišemo"
   ]
  },
  {
   "cell_type": "code",
   "execution_count": 1,
   "id": "protective-vessel",
   "metadata": {},
   "outputs": [
    {
     "name": "stdout",
     "output_type": "stream",
     "text": [
      "🍋🍅 = 5\n"
     ]
    }
   ],
   "source": [
    "🍓🍄 = 3\n",
    "🍏🍒 = 2\n",
    "🍋🍅 = 🍏🍒 + 🍓🍄\n",
    "println(\"🍋🍅 = $🍋🍅\")"
   ]
  },
  {
   "cell_type": "markdown",
   "id": "fluid-crawford",
   "metadata": {},
   "source": [
    "## Funkcije\n",
    "\n",
    "Funkcije so pravtako enote in jih lahko prirejamo"
   ]
  },
  {
   "cell_type": "raw",
   "id": "decreased-friendly",
   "metadata": {},
   "source": [
    "function P(a,b)\n",
    "    return a+3b\n",
    "end\n",
    "Q = P\n",
    "println(\"Q = $Q(1,1)\")\n",
    "println(\"Q = $(Q(1,1))\")"
   ]
  },
  {
   "cell_type": "markdown",
   "id": "expected-aurora",
   "metadata": {},
   "source": [
    "To lahko uporabimo za definicijo končnih grupoidov podanih s tabelo\n",
    "\n",
    "<table style=\"width:100px\" border=1>\n",
    "  <tr>\n",
    "    <td>⊞</td>\n",
    "    <td>□</td>\n",
    "    <td>■</td>\n",
    "  </tr>\n",
    "  <tr>\n",
    "    <td>□</td>\n",
    "    <td>□</td>\n",
    "    <td>■</td>\n",
    "  </tr>\n",
    "  <tr>\n",
    "    <td>■</td>\n",
    "    <td>■</td>\n",
    "    <td>■</td>\n",
    "  </tr>\n",
    "</table>"
   ]
  },
  {
   "cell_type": "code",
   "execution_count": 4,
   "id": "regulated-reynolds",
   "metadata": {},
   "outputs": [
    {
     "name": "stdout",
     "output_type": "stream",
     "text": [
      "['□' '■'; '■' '■']\n",
      "□ ⊞ ■ = ■\n",
      "□ ⊞ □ = □\n",
      "□ ⊞ □ ⊞ ■ = ■\n",
      "S = Set(['■', '□'])\n"
     ]
    }
   ],
   "source": [
    "□='□'\n",
    "■='■'\n",
    "T = [□ ■; ■ ■]\n",
    "println(T)\n",
    "I = Dict('□' => 1, '■' => 2)\n",
    "# x ⊞ y = T[I[x],I[y]]\n",
    "function ⊞(x,y)\n",
    "    return T[I[x],I[y]]\n",
    "end\n",
    "println(\"□ ⊞ ■ = $(□ ⊞ ■)\")\n",
    "println(\"□ ⊞ □ = $(□ ⊞ □)\")\n",
    "println(\"□ ⊞ □ ⊞ ■ = $(□ ⊞ □ ⊞ ■)\")\n",
    "S = Set(keys(I))\n",
    "println(\"S = $S\")"
   ]
  },
  {
   "cell_type": "markdown",
   "id": "worth-crystal",
   "metadata": {},
   "source": [
    "## Prednostni vrstni red operacij\n",
    "\n",
    "Prednostni vrstni red operacij je določen v razčlenjevalniku jezika Julia\n",
    "\n",
    "https://github.com/JuliaLang/julia/blob/a882d9bf183fc93319002c9158f406f0755c202e/src/julia-parser.scm#L29\n",
    "\n",
    "Za nas so zanimiva predvsem seštevanja in množenja. Množenja imajo prednost pred seštevanji; znotraj skupine pa velja pravilo izračuna z leve proti desni - če vrstni red ni določen z oklepaji.\n",
    "\n",
    "<b>Seštevanja</b>:\n",
    "<ul>\n",
    "<li>+ - |\\|| ⊕ ⊖ ⊞ ⊟ |++| ∪ ∨ ⊔ ± ∓ ∔ ∸ ≂ ≏ ⊎ ⊻ ⊽ ⋎ ⋓ ⧺ ⧻ ⨈ ⨢ ⨣ ⨤ ⨥ ⨦ ⨧ ⨨ ⨩ ⨪ ⨫ ⨬ ⨭ ⨮ ⨹ ⨺ ⩁ ⩂ ⩅ ⩊ ⩌ ⩏ ⩐ ⩒ ⩔ ⩖ ⩗ ⩛ ⩝ ⩡ ⩢ ⩣  $ </li>\n",
    "</ul>\n",
    "in <b>množenja</b>:\n",
    "<ul>\n",
    "<li>* / ÷ % & ⋅ ∘ × |\\\\| ∩ ∧ ⊗ ⊘ ⊙ ⊚ ⊛ ⊠ ⊡ ⊓ ∗ ∙ ∤ ⅋ ≀ ⊼ ⋄ ⋆ ⋇ ⋉ ⋊ ⋋ ⋌ ⋏ ⋒ ⟑ ⦸ ⦼ ⦾ ⦿ ⧶ ⧷ ⨇ ⨰ ⨱ ⨲ ⨳ ⨴ ⨵ ⨶ ⨷ ⨸ ⨻ ⨼ ⨽ ⩀ ⩃ ⩄ ⩋ ⩍ ⩎ ⩑ ⩓ ⩕ ⩘ ⩚ ⩜ ⩞ ⩟ ⩠ ⫛ ⊍ ▷ ⨝ ⟕ ⟖ ⟗ </li>\n",
    "</ul>\n"
   ]
  },
  {
   "cell_type": "code",
   "execution_count": 5,
   "id": "final-diary",
   "metadata": {},
   "outputs": [
    {
     "data": {
      "text/plain": [
       "5"
      ]
     },
     "execution_count": 5,
     "metadata": {},
     "output_type": "execute_result"
    }
   ],
   "source": [
    "⊕ = min\n",
    "⊙ = +\n",
    "5 ⊕ 3 ⊙ 4"
   ]
  },
  {
   "cell_type": "code",
   "execution_count": 6,
   "id": "elementary-makeup",
   "metadata": {},
   "outputs": [
    {
     "data": {
      "text/plain": [
       "7"
      ]
     },
     "execution_count": 6,
     "metadata": {},
     "output_type": "execute_result"
    }
   ],
   "source": [
    "6 ⊙ 2 ⊕ 3 ⊙ 4"
   ]
  },
  {
   "cell_type": "code",
   "execution_count": 7,
   "id": "indian-surfing",
   "metadata": {},
   "outputs": [
    {
     "data": {
      "text/plain": [
       "2"
      ]
     },
     "execution_count": 7,
     "metadata": {},
     "output_type": "execute_result"
    }
   ],
   "source": [
    "4 - 3 + 2 - 1"
   ]
  },
  {
   "cell_type": "code",
   "execution_count": 8,
   "id": "unlimited-consciousness",
   "metadata": {},
   "outputs": [
    {
     "data": {
      "text/plain": [
       "2"
      ]
     },
     "execution_count": 8,
     "metadata": {},
     "output_type": "execute_result"
    }
   ],
   "source": [
    "((4 - 3) + 2) - 1"
   ]
  },
  {
   "cell_type": "code",
   "execution_count": 9,
   "id": "hydraulic-petite",
   "metadata": {},
   "outputs": [
    {
     "data": {
      "text/plain": [
       "0"
      ]
     },
     "execution_count": 9,
     "metadata": {},
     "output_type": "execute_result"
    }
   ],
   "source": [
    "4 - (3 + (2 - 1))"
   ]
  },
  {
   "cell_type": "code",
   "execution_count": 11,
   "id": "greater-poland",
   "metadata": {},
   "outputs": [
    {
     "data": {
      "text/plain": [
       "-2"
      ]
     },
     "execution_count": 11,
     "metadata": {},
     "output_type": "execute_result"
    }
   ],
   "source": [
    "(4 - (3 + 2)) - 1"
   ]
  },
  {
   "cell_type": "markdown",
   "id": "received-federal",
   "metadata": {},
   "source": [
    "[Kazalo](kazalo.ipynb)"
   ]
  },
  {
   "cell_type": "code",
   "execution_count": null,
   "id": "virgin-circumstances",
   "metadata": {},
   "outputs": [],
   "source": []
  }
 ],
 "metadata": {
  "kernelspec": {
   "display_name": "Julia 1.5.3",
   "language": "julia",
   "name": "julia-1.5"
  },
  "language_info": {
   "file_extension": ".jl",
   "mimetype": "application/julia",
   "name": "julia",
   "version": "1.5.3"
  }
 },
 "nbformat": 4,
 "nbformat_minor": 5
}
